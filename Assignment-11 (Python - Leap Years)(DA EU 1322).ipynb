{
 "cells": [
  {
   "cell_type": "code",
   "execution_count": 14,
   "id": "9ee7262f",
   "metadata": {},
   "outputs": [
    {
     "name": "stdout",
     "output_type": "stream",
     "text": [
      "Write Year : 4400\n",
      "4400  is  a leap year\n"
     ]
    }
   ],
   "source": [
    "year = int(input(\"Write Year : \"))\n",
    "\n",
    "if year %4 == 0 :\n",
    "    if year  %100 != 0 :\n",
    "        print(year,\" is not a leap year\")\n",
    "    elif year %400 == 0 :\n",
    "        print(year,\" is  a leap year\")\n",
    "else:\n",
    "    print(year,\" is not a leap year\")\n"
   ]
  },
  {
   "cell_type": "code",
   "execution_count": null,
   "id": "45f24194",
   "metadata": {},
   "outputs": [],
   "source": []
  },
  {
   "cell_type": "code",
   "execution_count": null,
   "id": "7901a702",
   "metadata": {},
   "outputs": [],
   "source": []
  }
 ],
 "metadata": {
  "kernelspec": {
   "display_name": "Python 3 (ipykernel)",
   "language": "python",
   "name": "python3"
  },
  "language_info": {
   "codemirror_mode": {
    "name": "ipython",
    "version": 3
   },
   "file_extension": ".py",
   "mimetype": "text/x-python",
   "name": "python",
   "nbconvert_exporter": "python",
   "pygments_lexer": "ipython3",
   "version": "3.9.12"
  }
 },
 "nbformat": 4,
 "nbformat_minor": 5
}
